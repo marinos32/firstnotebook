{
 "cells": [
  {
   "cell_type": "markdown",
   "id": "a42a8f3f",
   "metadata": {},
   "source": [
    "# Data Science Tools and Ecosystem"
   ]
  },
  {
   "cell_type": "markdown",
   "id": "c0f0625e",
   "metadata": {},
   "source": [
    "In this notebook, Data Science Tools and Ecosystem are summarized."
   ]
  },
  {
   "cell_type": "markdown",
   "id": "67ff5e97",
   "metadata": {},
   "source": [
    "Some of the popular languages that Data Scientists use are:\n",
    "1. Python\n",
    "2. R\n",
    "3. Julia\n",
    "4. SQL"
   ]
  },
  {
   "cell_type": "markdown",
   "id": "094198d8",
   "metadata": {},
   "source": [
    "**Objectives:**\n",
    "    \n",
    "- How to create headers with variours header desighs\n",
    "- How to make simple calculations\n",
    "- How to create table of content\n",
    "- How to create ordered list\n",
    "- How to create unordered list\n",
    "- List of popular Data Science libraries\n",
    "- List of popular Data Science Tools"
   ]
  },
  {
   "cell_type": "markdown",
   "id": "b0f6b8fc",
   "metadata": {},
   "source": [
    "Some of the commonly used libraries used by Data Scientists include:\n",
    "\n",
    "1. Panda\n",
    "2. ggplot\n",
    "3. NumPy\n",
    "4. ApacheSpark\n",
    "5. TensorFlow\n",
    "6. SciKit\n",
    "7. MatplotLib"
   ]
  },
  {
   "cell_type": "markdown",
   "id": "9c9eaa7f",
   "metadata": {},
   "source": [
    "|Data Science Tools|\n",
    "|------------------|\n",
    "|R Studio |\n",
    "|Jupiter Notebook|\n",
    "|MySQL|\n",
    "|GitHub|\n"
   ]
  },
  {
   "cell_type": "markdown",
   "id": "89006d9c",
   "metadata": {},
   "source": [
    "### Below are a few examples of evaluating arithmetic expressions in Python"
   ]
  },
  {
   "cell_type": "code",
   "execution_count": 2,
   "id": "ee4bef29",
   "metadata": {},
   "outputs": [
    {
     "name": "stdout",
     "output_type": "stream",
     "text": [
      "17\n"
     ]
    }
   ],
   "source": [
    "#This a simple arithmetic expression to mutiply then add integers\n",
    "x=(3*4)+5\n",
    "\n",
    "print(x)"
   ]
  },
  {
   "cell_type": "code",
   "execution_count": 11,
   "id": "556fbcce",
   "metadata": {
    "scrolled": true
   },
   "outputs": [
    {
     "name": "stdout",
     "output_type": "stream",
     "text": [
      "3.3333333333333335\n"
     ]
    }
   ],
   "source": [
    "#This will convert 200 minutes to hours by diving by 60\n",
    "x=200/60\n",
    "\n",
    "print (x)"
   ]
  },
  {
   "cell_type": "markdown",
   "id": "9b47da3d",
   "metadata": {},
   "source": [
    "## Author: \n",
    "## Marinos Kaitis"
   ]
  },
  {
   "cell_type": "code",
   "execution_count": null,
   "id": "a3c6fa31",
   "metadata": {},
   "outputs": [],
   "source": []
  }
 ],
 "metadata": {
  "kernelspec": {
   "display_name": "Python 3 (ipykernel)",
   "language": "python",
   "name": "python3"
  },
  "language_info": {
   "codemirror_mode": {
    "name": "ipython",
    "version": 3
   },
   "file_extension": ".py",
   "mimetype": "text/x-python",
   "name": "python",
   "nbconvert_exporter": "python",
   "pygments_lexer": "ipython3",
   "version": "3.11.5"
  }
 },
 "nbformat": 4,
 "nbformat_minor": 5
}
